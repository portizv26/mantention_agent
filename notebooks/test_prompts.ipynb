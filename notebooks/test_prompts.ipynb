{
 "cells": [
  {
   "cell_type": "code",
   "execution_count": 1,
   "id": "09656dcb",
   "metadata": {},
   "outputs": [],
   "source": [
    "from prompts import default_prompts\n",
    "from config import assistant_id\n",
    "from structuredOutputs import messageClassification\n",
    "\n",
    "import pandas as pd\n",
    "import numpy as np\n",
    "from datetime import timedelta\n",
    "from openai import OpenAI\n",
    "from typing import List, Optional\n",
    "from pydantic import BaseModel\n",
    "import sqlite3\n",
    "\n",
    "import json\n",
    "import time\n",
    "import os\n",
    "from dotenv import load_dotenv\n",
    "import concurrent.futures\n",
    "\n",
    "load_dotenv()\n",
    "client = OpenAI()"
   ]
  },
  {
   "cell_type": "code",
   "execution_count": 24,
   "id": "dadae118",
   "metadata": {},
   "outputs": [],
   "source": [
    "user_message_1 = 'which is the mean downtime of each machine?'\n",
    "user_message_2 = 'which is the mean downtime of each machine in the last 3 months?'\n",
    "user_message_3 = 'which is the mean of the speed of each machine?'\n",
    "user_message_4 = 'which is the yield of the site for the last quarter?'\n",
    "user_message_5 = 'repeat the last table but with the last 3 months of data'\n",
    "\n",
    "user_examples = [user_message_1, user_message_2, user_message_3, user_message_4, user_message_5]\n",
    "base_message = 'the user request is as follows: {user_message}\\nthe context is the following: No relevant context available.'\n",
    "\n",
    "response_list = []\n",
    "for message in user_examples:\n",
    "    formated_message = base_message.format(user_message=message)\n",
    "    \n",
    "    messages = default_prompts['classification'].copy()\n",
    "    \n",
    "    messages.append({\"role\": \"user\", \"content\": formated_message})\n",
    "    \n",
    "    response = client.beta.chat.completions.parse(\n",
    "            model = 'o3-mini',\n",
    "            messages = messages,\n",
    "            response_format=messageClassification\n",
    "            )\n",
    "    \n",
    "    response_list.append(response.choices[0].message.parsed)\n"
   ]
  },
  {
   "cell_type": "code",
   "execution_count": 3,
   "id": "d66e0538",
   "metadata": {},
   "outputs": [
    {
     "name": "stdout",
     "output_type": "stream",
     "text": [
      "{'hola': 3}\n"
     ]
    }
   ],
   "source": [
    "old = {\n",
    "}\n",
    "\n",
    "new = {\n",
    "    'hola' : 3\n",
    "}\n",
    "\n",
    "old.update(new)\n",
    "print(old)"
   ]
  },
  {
   "cell_type": "code",
   "execution_count": null,
   "id": "d803cdf7",
   "metadata": {},
   "outputs": [],
   "source": []
  },
  {
   "cell_type": "code",
   "execution_count": 25,
   "id": "819411a9",
   "metadata": {},
   "outputs": [
    {
     "data": {
      "text/plain": [
       "[messageClassification(is_on_topic=True, is_context_sufficient=False),\n",
       " messageClassification(is_on_topic=True, is_context_sufficient=False),\n",
       " messageClassification(is_on_topic=False, is_context_sufficient=False),\n",
       " messageClassification(is_on_topic=False, is_context_sufficient=False),\n",
       " messageClassification(is_on_topic=True, is_context_sufficient=False)]"
      ]
     },
     "execution_count": 25,
     "metadata": {},
     "output_type": "execute_result"
    }
   ],
   "source": [
    "response_list"
   ]
  }
 ],
 "metadata": {
  "kernelspec": {
   "display_name": ".venv",
   "language": "python",
   "name": "python3"
  },
  "language_info": {
   "codemirror_mode": {
    "name": "ipython",
    "version": 3
   },
   "file_extension": ".py",
   "mimetype": "text/x-python",
   "name": "python",
   "nbconvert_exporter": "python",
   "pygments_lexer": "ipython3",
   "version": "3.12.10"
  }
 },
 "nbformat": 4,
 "nbformat_minor": 5
}
